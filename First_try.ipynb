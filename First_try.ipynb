{
  "nbformat": 4,
  "nbformat_minor": 0,
  "metadata": {
    "colab": {
      "provenance": [],
      "authorship_tag": "ABX9TyMlGx3I5p9ajMi5NOmUJWkU",
      "include_colab_link": true
    },
    "kernelspec": {
      "name": "python3",
      "display_name": "Python 3"
    },
    "language_info": {
      "name": "python"
    }
  },
  "cells": [
    {
      "cell_type": "markdown",
      "metadata": {
        "id": "view-in-github",
        "colab_type": "text"
      },
      "source": [
        "<a href=\"https://colab.research.google.com/github/MattRamb97/Erasmus_Hardgainers/blob/main/First_try.ipynb\" target=\"_parent\"><img src=\"https://colab.research.google.com/assets/colab-badge.svg\" alt=\"Open In Colab\"/></a>"
      ]
    },
    {
      "cell_type": "code",
      "execution_count": 29,
      "metadata": {
        "id": "zORKNY3QbWaP",
        "colab": {
          "base_uri": "https://localhost:8080/"
        },
        "outputId": "2f420d5f-a3d9-4b11-ad2b-8677dcc7eae9"
      },
      "outputs": [
        {
          "output_type": "stream",
          "name": "stdout",
          "text": [
            "                                                                  title  \\\n",
            "rmK12Uau.ntP510KeImX506H6Mr6jTu       Slow Cooker Chicken and Dumplings   \n",
            "5ZpZE8hSVdPk2ZXo1mZTyoPWJRSCPSm           Awesome Slow Cooker Pot Roast   \n",
            "clyYQv.CplpwJtjNaFGhx0VilNYqRxu                    Brown Sugar Meatloaf   \n",
            "BmqFAmCrDHiKNwX.IQzb0U/v0mLlxFu             Best Chocolate Chip Cookies   \n",
            "N.jCksRjB4MFwbgPFQU8Kg.yF.XCtOi       Homemade Mac and Cheese Casserole   \n",
            "...                                                                 ...   \n",
            "gehEOcDPtU3SmNSXrwWwWD4ulPpUdMO                 Thai-Indian Veggie Soup   \n",
            "VRAsyF.1xMBYqAVKX1biyIORH6N6qzy  Coconut Milk-Free Panang Curry Chicken   \n",
            "Lf8/u.0k2029QMSQFrHS4gRsvKOQFUG                       Cooked Cold Salad   \n",
            "ay.AqX/9ysBtWHcnHoDeGAyJ5Orla8e                Easy Eggnog Creme Brulee   \n",
            "2Q3Zpfgt/PUwn1YABjJ5A9T3ZW8xwVa            Super Power Stovetop Granola   \n",
            "\n",
            "                                 ingredients  \\\n",
            "rmK12Uau.ntP510KeImX506H6Mr6jTu          NaN   \n",
            "5ZpZE8hSVdPk2ZXo1mZTyoPWJRSCPSm          NaN   \n",
            "clyYQv.CplpwJtjNaFGhx0VilNYqRxu          NaN   \n",
            "BmqFAmCrDHiKNwX.IQzb0U/v0mLlxFu          NaN   \n",
            "N.jCksRjB4MFwbgPFQU8Kg.yF.XCtOi          NaN   \n",
            "...                                      ...   \n",
            "gehEOcDPtU3SmNSXrwWwWD4ulPpUdMO          NaN   \n",
            "VRAsyF.1xMBYqAVKX1biyIORH6N6qzy          NaN   \n",
            "Lf8/u.0k2029QMSQFrHS4gRsvKOQFUG          NaN   \n",
            "ay.AqX/9ysBtWHcnHoDeGAyJ5Orla8e          NaN   \n",
            "2Q3Zpfgt/PUwn1YABjJ5A9T3ZW8xwVa          NaN   \n",
            "\n",
            "                                                                      instructions  \\\n",
            "rmK12Uau.ntP510KeImX506H6Mr6jTu  Place the chicken, butter, soup, and onion in ...   \n",
            "5ZpZE8hSVdPk2ZXo1mZTyoPWJRSCPSm  In a slow cooker, mix cream of mushroom soup, ...   \n",
            "clyYQv.CplpwJtjNaFGhx0VilNYqRxu  Preheat oven to 350 degrees F (175 degrees C)....   \n",
            "BmqFAmCrDHiKNwX.IQzb0U/v0mLlxFu  Preheat oven to 350 degrees F (175 degrees C)....   \n",
            "N.jCksRjB4MFwbgPFQU8Kg.yF.XCtOi  Preheat oven to 350 degrees F. Line a 2-quart ...   \n",
            "...                                                                            ...   \n",
            "gehEOcDPtU3SmNSXrwWwWD4ulPpUdMO  Heat oil in a large pot over medium heat. Add ...   \n",
            "VRAsyF.1xMBYqAVKX1biyIORH6N6qzy  Heat cream and coconut extract in a skillet or...   \n",
            "Lf8/u.0k2029QMSQFrHS4gRsvKOQFUG  Heat bacon grease in a skillet over medium-hig...   \n",
            "ay.AqX/9ysBtWHcnHoDeGAyJ5Orla8e  Preheat oven to 350 degrees F (175 degrees C)....   \n",
            "2Q3Zpfgt/PUwn1YABjJ5A9T3ZW8xwVa  Heat 1/4 cup canola oil in large skillet over ...   \n",
            "\n",
            "                                                    picture_link  \n",
            "rmK12Uau.ntP510KeImX506H6Mr6jTu  55lznCYBbs2mT8BTx6BTkLhynGHzM.S  \n",
            "5ZpZE8hSVdPk2ZXo1mZTyoPWJRSCPSm  QyrvGdGNMBA2lDdciY0FjKu.77MM0Oe  \n",
            "clyYQv.CplpwJtjNaFGhx0VilNYqRxu  LVW1DI0vtlCrpAhNSEQysE9i/7rJG56  \n",
            "BmqFAmCrDHiKNwX.IQzb0U/v0mLlxFu  0SO5kdWOV94j6EfAVwMMYRM3yNN8eRi  \n",
            "N.jCksRjB4MFwbgPFQU8Kg.yF.XCtOi  YCnbhplMgiraW4rUXcybgSEZinSgljm  \n",
            "...                                                          ...  \n",
            "gehEOcDPtU3SmNSXrwWwWD4ulPpUdMO  qE58a7Z1Au0GXvPO188iHZZVqna9hLa  \n",
            "VRAsyF.1xMBYqAVKX1biyIORH6N6qzy  qE58a7Z1Au0GXvPO188iHZZVqna9hLa  \n",
            "Lf8/u.0k2029QMSQFrHS4gRsvKOQFUG  qE58a7Z1Au0GXvPO188iHZZVqna9hLa  \n",
            "ay.AqX/9ysBtWHcnHoDeGAyJ5Orla8e  qE58a7Z1Au0GXvPO188iHZZVqna9hLa  \n",
            "2Q3Zpfgt/PUwn1YABjJ5A9T3ZW8xwVa  qE58a7Z1Au0GXvPO188iHZZVqna9hLa  \n",
            "\n",
            "[39802 rows x 4 columns]\n"
          ]
        }
      ],
      "source": [
        "url_1 = 'https://raw.githubusercontent.com/MattRamb97/Erasmus_Hardgainers/main/Datasets/recipes_raw_nosource_ar.json'\n",
        "url_2 = 'https://raw.githubusercontent.com/MattRamb97/Erasmus_Hardgainers/main/Datasets/recipes_raw_nosource_epi.json'\n",
        "url_3 = 'https://raw.githubusercontent.com/MattRamb97/Erasmus_Hardgainers/main/Datasets/recipes_raw_nosource_fn.json'\n",
        "\n",
        "import pandas as pd\n",
        "df_ar = pd.read_json(url_1, orient='records', dtype='dict').transpose()\n",
        "df_epi = pd.read_json(url_2, orient='records', dtype='dict').transpose()\n",
        "df_fn = pd.read_json(url_3, orient='records', dtype='dict').transpose()\n",
        "\n",
        "\n",
        "# Remove the word from each text entry\n",
        "df_ar['ingredients'] = df_ar['ingredients'].str.replace('ADVERTISEMENT', '')\n",
        "print(df_ar)\n"
      ]
    }
  ]
}